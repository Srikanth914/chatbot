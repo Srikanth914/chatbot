{
 "cells": [
  {
   "cell_type": "code",
   "execution_count": 1,
   "metadata": {},
   "outputs": [
    {
     "name": "stderr",
     "output_type": "stream",
     "text": [
      "Using TensorFlow backend.\n"
     ]
    }
   ],
   "source": [
    "import nltk\n",
    "from nltk.stem import WordNetLemmatizer\n",
    "lemmatizer = WordNetLemmatizer()\n",
    "import json\n",
    "import pickle\n",
    "\n",
    "import numpy as np\n",
    "from keras.models import Sequential\n",
    "from keras.layers import Dense, Activation, Dropout\n",
    "from keras.optimizers import SGD\n",
    "import random"
   ]
  },
  {
   "cell_type": "raw",
   "metadata": {},
   "source": [
    "pip install keras==2.3.1"
   ]
  },
  {
   "cell_type": "code",
   "execution_count": 2,
   "metadata": {},
   "outputs": [],
   "source": [
    "words = []\n",
    "classes = []\n",
    "documents = []\n",
    "ignore_words = ['?', '!']\n",
    "data_file = open('intents.json').read()\n",
    "intents = json.loads(data_file)"
   ]
  },
  {
   "cell_type": "code",
   "execution_count": 3,
   "metadata": {},
   "outputs": [],
   "source": [
    "for intent in intents['intents']:\n",
    "    for pattern in intent['patterns']:\n",
    "\n",
    "        #tokenize each word\n",
    "        w = nltk.word_tokenize(pattern)\n",
    "        words.extend(w)\n",
    "        #add documents in the corpus\n",
    "        documents.append((w, intent['tag']))\n",
    "\n",
    "        # add to our classes list\n",
    "        if intent['tag'] not in classes:\n",
    "            classes.append(intent['tag'])"
   ]
  },
  {
   "cell_type": "code",
   "execution_count": 9,
   "metadata": {},
   "outputs": [],
   "source": [
    "# lemmaztize and lower each word and remove duplicates\n",
    "words = [lemmatizer.lemmatize(w.lower()) for w in words if w not in ignore_words]\n",
    "words = sorted(list(set(words)))\n",
    "# sort classes\n",
    "classes = sorted(list(set(classes)))"
   ]
  },
  {
   "cell_type": "code",
   "execution_count": 10,
   "metadata": {},
   "outputs": [
    {
     "name": "stdout",
     "output_type": "stream",
     "text": [
      "47 documents\n"
     ]
    }
   ],
   "source": [
    "# documents = combination between patterns and intents\n",
    "print (len(documents), \"documents\")"
   ]
  },
  {
   "cell_type": "code",
   "execution_count": 11,
   "metadata": {},
   "outputs": [
    {
     "name": "stdout",
     "output_type": "stream",
     "text": [
      "9 classes ['adverse_drug', 'blood_pressure', 'blood_pressure_search', 'goodbye', 'greeting', 'hospital_search', 'options', 'pharmacy_search', 'thanks']\n"
     ]
    }
   ],
   "source": [
    "# classes = intents\n",
    "print (len(classes), \"classes\", classes)"
   ]
  },
  {
   "cell_type": "code",
   "execution_count": 12,
   "metadata": {},
   "outputs": [
    {
     "name": "stdout",
     "output_type": "stream",
     "text": [
      "88 unique lemmatized words [\"'s\", ',', 'a', 'adverse', 'all', 'anyone', 'are', 'awesome', 'be', 'behavior', 'blood', 'by', 'bye', 'can', 'causing', 'chatting', 'check', 'could', 'data', 'day', 'detail', 'do', 'dont', 'drug', 'entry', 'find', 'for', 'give', 'good', 'goodbye', 'have', 'hello', 'help', 'helpful', 'helping', 'hey', 'hi', 'history', 'hola', 'hospital', 'how', 'i', 'id', 'is', 'later', 'list', 'load', 'locate', 'log', 'looking', 'lookup', 'management', 'me', 'module', 'nearby', 'next', 'nice', 'of', 'offered', 'open', 'patient', 'pharmacy', 'pressure', 'provide', 'reaction', 'related', 'result', 'search', 'searching', 'see', 'show', 'suitable', 'support', 'task', 'thank', 'thanks', 'that', 'there', 'till', 'time', 'to', 'transfer', 'up', 'want', 'what', 'which', 'with', 'you']\n"
     ]
    }
   ],
   "source": [
    "# words = all words, vocabulary\n",
    "print (len(words), \"unique lemmatized words\", words)"
   ]
  },
  {
   "cell_type": "code",
   "execution_count": 13,
   "metadata": {},
   "outputs": [],
   "source": [
    "pickle.dump(words,open('words.pkl','wb'))\n",
    "pickle.dump(classes,open('classes.pkl','wb'))"
   ]
  },
  {
   "cell_type": "code",
   "execution_count": 14,
   "metadata": {},
   "outputs": [
    {
     "name": "stdout",
     "output_type": "stream",
     "text": [
      "Training data created\n"
     ]
    }
   ],
   "source": [
    "# create our training data\n",
    "training = []\n",
    "# create an empty array for our output\n",
    "output_empty = [0] * len(classes)\n",
    "# training set, bag of words for each sentence\n",
    "for doc in documents:\n",
    "    # initialize our bag of words\n",
    "    bag = []\n",
    "    # list of tokenized words for the pattern\n",
    "    pattern_words = doc[0]\n",
    "    # lemmatize each word - create base word, in attempt to represent related words\n",
    "    pattern_words = [lemmatizer.lemmatize(word.lower()) for word in pattern_words]\n",
    "    # create our bag of words array with 1, if word match found in current pattern\n",
    "    for w in words:\n",
    "        bag.append(1) if w in pattern_words else bag.append(0)\n",
    "    \n",
    "    # output is a '0' for each tag and '1' for current tag (for each pattern)\n",
    "    output_row = list(output_empty)\n",
    "    output_row[classes.index(doc[1])] = 1\n",
    "    \n",
    "    training.append([bag, output_row])\n",
    "# shuffle our features and turn into np.array\n",
    "random.shuffle(training)\n",
    "training = np.array(training)\n",
    "# create train and test lists. X - patterns, Y - intents\n",
    "train_x = list(training[:,0])\n",
    "train_y = list(training[:,1])\n",
    "print(\"Training data created\")"
   ]
  },
  {
   "cell_type": "code",
   "execution_count": 16,
   "metadata": {},
   "outputs": [
    {
     "name": "stdout",
     "output_type": "stream",
     "text": [
      "WARNING:tensorflow:From C:\\ProgramData\\Anaconda3\\lib\\site-packages\\tensorflow_core\\python\\ops\\resource_variable_ops.py:1630: calling BaseResourceVariable.__init__ (from tensorflow.python.ops.resource_variable_ops) with constraint is deprecated and will be removed in a future version.\n",
      "Instructions for updating:\n",
      "If using Keras pass *_constraint arguments to layers.\n"
     ]
    }
   ],
   "source": [
    "# Create model - 3 layers. First layer 128 neurons, second layer 64 neurons and 3rd output layer contains number of neurons\n",
    "# equal to number of intents to predict output intent with softmax\n",
    "model = Sequential()\n",
    "model.add(Dense(128, input_shape=(len(train_x[0]),), activation='relu'))\n",
    "model.add(Dropout(0.5))\n",
    "model.add(Dense(64, activation='relu'))\n",
    "model.add(Dropout(0.5))\n",
    "model.add(Dense(len(train_y[0]), activation='softmax'))"
   ]
  },
  {
   "cell_type": "code",
   "execution_count": 17,
   "metadata": {},
   "outputs": [],
   "source": [
    "# Compile model. Stochastic gradient descent with Nesterov accelerated gradient gives good results for this model\n",
    "sgd = SGD(lr=0.01, decay=1e-6, momentum=0.9, nesterov=True)\n",
    "model.compile(loss='categorical_crossentropy', optimizer=sgd, metrics=['accuracy'])"
   ]
  },
  {
   "cell_type": "code",
   "execution_count": 18,
   "metadata": {},
   "outputs": [
    {
     "name": "stdout",
     "output_type": "stream",
     "text": [
      "WARNING:tensorflow:From C:\\ProgramData\\Anaconda3\\lib\\site-packages\\keras\\backend\\tensorflow_backend.py:422: The name tf.global_variables is deprecated. Please use tf.compat.v1.global_variables instead.\n",
      "\n",
      "Epoch 1/200\n",
      "47/47 [==============================] - 2s 44ms/step - loss: 2.1957 - accuracy: 0.1277\n",
      "Epoch 2/200\n",
      "47/47 [==============================] - 0s 851us/step - loss: 2.1269 - accuracy: 0.2979\n",
      "Epoch 3/200\n",
      "47/47 [==============================] - 0s 851us/step - loss: 2.0832 - accuracy: 0.2128\n",
      "Epoch 4/200\n",
      "47/47 [==============================] - 0s 1ms/step - loss: 1.9687 - accuracy: 0.4468\n",
      "Epoch 5/200\n",
      "47/47 [==============================] - 0s 1ms/step - loss: 1.8481 - accuracy: 0.4043\n",
      "Epoch 6/200\n",
      "47/47 [==============================] - 0s 851us/step - loss: 1.6607 - accuracy: 0.5745\n",
      "Epoch 7/200\n",
      "47/47 [==============================] - 0s 745us/step - loss: 1.6398 - accuracy: 0.5319\n",
      "Epoch 8/200\n",
      "47/47 [==============================] - 0s 745us/step - loss: 1.4617 - accuracy: 0.5957\n",
      "Epoch 9/200\n",
      "47/47 [==============================] - 0s 1ms/step - loss: 1.3687 - accuracy: 0.6383\n",
      "Epoch 10/200\n",
      "47/47 [==============================] - 0s 851us/step - loss: 1.1741 - accuracy: 0.6596\n",
      "Epoch 11/200\n",
      "47/47 [==============================] - 0s 1ms/step - loss: 1.1189 - accuracy: 0.7021\n",
      "Epoch 12/200\n",
      "47/47 [==============================] - 0s 2ms/step - loss: 0.9673 - accuracy: 0.7234\n",
      "Epoch 13/200\n",
      "47/47 [==============================] - 0s 1ms/step - loss: 0.8669 - accuracy: 0.7872\n",
      "Epoch 14/200\n",
      "47/47 [==============================] - 0s 1ms/step - loss: 0.9615 - accuracy: 0.7447\n",
      "Epoch 15/200\n",
      "47/47 [==============================] - 0s 957us/step - loss: 0.7617 - accuracy: 0.7872\n",
      "Epoch 16/200\n",
      "47/47 [==============================] - 0s 957us/step - loss: 0.6653 - accuracy: 0.8298\n",
      "Epoch 17/200\n",
      "47/47 [==============================] - 0s 957us/step - loss: 0.5268 - accuracy: 0.8723\n",
      "Epoch 18/200\n",
      "47/47 [==============================] - 0s 957us/step - loss: 0.7429 - accuracy: 0.7872\n",
      "Epoch 19/200\n",
      "47/47 [==============================] - 0s 745us/step - loss: 0.4889 - accuracy: 0.8936\n",
      "Epoch 20/200\n",
      "47/47 [==============================] - 0s 1ms/step - loss: 0.6095 - accuracy: 0.7872\n",
      "Epoch 21/200\n",
      "47/47 [==============================] - 0s 2ms/step - loss: 0.4714 - accuracy: 0.9149\n",
      "Epoch 22/200\n",
      "47/47 [==============================] - 0s 1ms/step - loss: 0.3562 - accuracy: 0.8936\n",
      "Epoch 23/200\n",
      "47/47 [==============================] - 0s 3ms/step - loss: 0.4108 - accuracy: 0.8723\n",
      "Epoch 24/200\n",
      "47/47 [==============================] - 0s 1ms/step - loss: 0.3307 - accuracy: 0.9787\n",
      "Epoch 25/200\n",
      "47/47 [==============================] - 0s 1ms/step - loss: 0.2539 - accuracy: 0.9574\n",
      "Epoch 26/200\n",
      "47/47 [==============================] - 0s 851us/step - loss: 0.3565 - accuracy: 0.9149\n",
      "Epoch 27/200\n",
      "47/47 [==============================] - 0s 851us/step - loss: 0.4130 - accuracy: 0.8723\n",
      "Epoch 28/200\n",
      "47/47 [==============================] - 0s 957us/step - loss: 0.2558 - accuracy: 0.9149\n",
      "Epoch 29/200\n",
      "47/47 [==============================] - 0s 957us/step - loss: 0.2076 - accuracy: 0.9787\n",
      "Epoch 30/200\n",
      "47/47 [==============================] - 0s 745us/step - loss: 0.2795 - accuracy: 0.9362\n",
      "Epoch 31/200\n",
      "47/47 [==============================] - 0s 745us/step - loss: 0.2265 - accuracy: 0.9362\n",
      "Epoch 32/200\n",
      "47/47 [==============================] - 0s 957us/step - loss: 0.3037 - accuracy: 0.8723\n",
      "Epoch 33/200\n",
      "47/47 [==============================] - 0s 851us/step - loss: 0.2670 - accuracy: 0.9574\n",
      "Epoch 34/200\n",
      "47/47 [==============================] - 0s 851us/step - loss: 0.1560 - accuracy: 1.0000\n",
      "Epoch 35/200\n",
      "47/47 [==============================] - 0s 851us/step - loss: 0.2108 - accuracy: 0.9362\n",
      "Epoch 36/200\n",
      "47/47 [==============================] - 0s 851us/step - loss: 0.2837 - accuracy: 0.8936\n",
      "Epoch 37/200\n",
      "47/47 [==============================] - 0s 957us/step - loss: 0.2008 - accuracy: 0.9574\n",
      "Epoch 38/200\n",
      "47/47 [==============================] - 0s 851us/step - loss: 0.2335 - accuracy: 0.8936\n",
      "Epoch 39/200\n",
      "47/47 [==============================] - 0s 851us/step - loss: 0.2395 - accuracy: 0.9574\n",
      "Epoch 40/200\n",
      "47/47 [==============================] - 0s 745us/step - loss: 0.1349 - accuracy: 0.9574\n",
      "Epoch 41/200\n",
      "47/47 [==============================] - 0s 745us/step - loss: 0.1458 - accuracy: 0.9362\n",
      "Epoch 42/200\n",
      "47/47 [==============================] - 0s 745us/step - loss: 0.1479 - accuracy: 0.9787\n",
      "Epoch 43/200\n",
      "47/47 [==============================] - 0s 745us/step - loss: 0.2036 - accuracy: 0.9574\n",
      "Epoch 44/200\n",
      "47/47 [==============================] - 0s 851us/step - loss: 0.1610 - accuracy: 0.9362\n",
      "Epoch 45/200\n",
      "47/47 [==============================] - 0s 745us/step - loss: 0.0943 - accuracy: 0.9787\n",
      "Epoch 46/200\n",
      "47/47 [==============================] - 0s 851us/step - loss: 0.1391 - accuracy: 0.9787\n",
      "Epoch 47/200\n",
      "47/47 [==============================] - 0s 1ms/step - loss: 0.2051 - accuracy: 0.8936\n",
      "Epoch 48/200\n",
      "47/47 [==============================] - 0s 1ms/step - loss: 0.1506 - accuracy: 0.9574\n",
      "Epoch 49/200\n",
      "47/47 [==============================] - 0s 745us/step - loss: 0.1318 - accuracy: 0.9787\n",
      "Epoch 50/200\n",
      "47/47 [==============================] - 0s 957us/step - loss: 0.1686 - accuracy: 0.9787\n",
      "Epoch 51/200\n",
      "47/47 [==============================] - 0s 638us/step - loss: 0.1366 - accuracy: 0.9574\n",
      "Epoch 52/200\n",
      "47/47 [==============================] - 0s 638us/step - loss: 0.0662 - accuracy: 1.0000\n",
      "Epoch 53/200\n",
      "47/47 [==============================] - 0s 851us/step - loss: 0.1191 - accuracy: 1.0000\n",
      "Epoch 54/200\n",
      "47/47 [==============================] - 0s 851us/step - loss: 0.0638 - accuracy: 1.0000\n",
      "Epoch 55/200\n",
      "47/47 [==============================] - 0s 638us/step - loss: 0.1003 - accuracy: 0.9787\n",
      "Epoch 56/200\n",
      "47/47 [==============================] - 0s 745us/step - loss: 0.1244 - accuracy: 0.9787\n",
      "Epoch 57/200\n",
      "47/47 [==============================] - 0s 851us/step - loss: 0.1414 - accuracy: 0.9574\n",
      "Epoch 58/200\n",
      "47/47 [==============================] - 0s 957us/step - loss: 0.1560 - accuracy: 0.9362\n",
      "Epoch 59/200\n",
      "47/47 [==============================] - 0s 745us/step - loss: 0.1123 - accuracy: 0.9787\n",
      "Epoch 60/200\n",
      "47/47 [==============================] - 0s 745us/step - loss: 0.0667 - accuracy: 1.0000\n",
      "Epoch 61/200\n",
      "47/47 [==============================] - 0s 745us/step - loss: 0.0613 - accuracy: 1.0000\n",
      "Epoch 62/200\n",
      "47/47 [==============================] - 0s 851us/step - loss: 0.1298 - accuracy: 0.9574\n",
      "Epoch 63/200\n",
      "47/47 [==============================] - 0s 851us/step - loss: 0.0398 - accuracy: 1.0000\n",
      "Epoch 64/200\n",
      "47/47 [==============================] - 0s 745us/step - loss: 0.0911 - accuracy: 0.9787\n",
      "Epoch 65/200\n",
      "47/47 [==============================] - 0s 745us/step - loss: 0.0517 - accuracy: 0.9787\n",
      "Epoch 66/200\n",
      "47/47 [==============================] - 0s 745us/step - loss: 0.1137 - accuracy: 0.9787\n",
      "Epoch 67/200\n",
      "47/47 [==============================] - 0s 745us/step - loss: 0.0211 - accuracy: 1.0000\n",
      "Epoch 68/200\n",
      "47/47 [==============================] - 0s 851us/step - loss: 0.1245 - accuracy: 0.9574\n",
      "Epoch 69/200\n",
      "47/47 [==============================] - 0s 745us/step - loss: 0.0948 - accuracy: 0.9787\n",
      "Epoch 70/200\n",
      "47/47 [==============================] - 0s 638us/step - loss: 0.0454 - accuracy: 0.9787\n",
      "Epoch 71/200\n",
      "47/47 [==============================] - 0s 745us/step - loss: 0.0866 - accuracy: 0.9574\n",
      "Epoch 72/200\n",
      "47/47 [==============================] - 0s 745us/step - loss: 0.0187 - accuracy: 1.0000\n",
      "Epoch 73/200\n",
      "47/47 [==============================] - 0s 745us/step - loss: 0.1127 - accuracy: 0.9574\n",
      "Epoch 74/200\n",
      "47/47 [==============================] - 0s 745us/step - loss: 0.0994 - accuracy: 0.9787\n",
      "Epoch 75/200\n",
      "47/47 [==============================] - 0s 638us/step - loss: 0.0468 - accuracy: 1.0000\n",
      "Epoch 76/200\n",
      "47/47 [==============================] - 0s 745us/step - loss: 0.1099 - accuracy: 0.9574\n",
      "Epoch 77/200\n",
      "47/47 [==============================] - 0s 745us/step - loss: 0.0279 - accuracy: 1.0000\n",
      "Epoch 78/200\n",
      "47/47 [==============================] - 0s 638us/step - loss: 0.0524 - accuracy: 0.9787\n",
      "Epoch 79/200\n"
     ]
    },
    {
     "name": "stdout",
     "output_type": "stream",
     "text": [
      "47/47 [==============================] - 0s 745us/step - loss: 0.0919 - accuracy: 0.9787\n",
      "Epoch 80/200\n",
      "47/47 [==============================] - 0s 638us/step - loss: 0.0308 - accuracy: 1.0000\n",
      "Epoch 81/200\n",
      "47/47 [==============================] - 0s 745us/step - loss: 0.0257 - accuracy: 1.0000\n",
      "Epoch 82/200\n",
      "47/47 [==============================] - 0s 745us/step - loss: 0.0694 - accuracy: 1.0000\n",
      "Epoch 83/200\n",
      "47/47 [==============================] - 0s 851us/step - loss: 0.0252 - accuracy: 1.0000\n",
      "Epoch 84/200\n",
      "47/47 [==============================] - 0s 745us/step - loss: 0.0314 - accuracy: 1.0000\n",
      "Epoch 85/200\n",
      "47/47 [==============================] - 0s 638us/step - loss: 0.0332 - accuracy: 1.0000\n",
      "Epoch 86/200\n",
      "47/47 [==============================] - 0s 745us/step - loss: 0.0336 - accuracy: 1.0000\n",
      "Epoch 87/200\n",
      "47/47 [==============================] - 0s 745us/step - loss: 0.0201 - accuracy: 1.0000\n",
      "Epoch 88/200\n",
      "47/47 [==============================] - 0s 638us/step - loss: 0.0942 - accuracy: 0.9787\n",
      "Epoch 89/200\n",
      "47/47 [==============================] - 0s 745us/step - loss: 0.0401 - accuracy: 1.0000\n",
      "Epoch 90/200\n",
      "47/47 [==============================] - 0s 638us/step - loss: 0.0477 - accuracy: 1.0000\n",
      "Epoch 91/200\n",
      "47/47 [==============================] - 0s 745us/step - loss: 0.0205 - accuracy: 1.0000\n",
      "Epoch 92/200\n",
      "47/47 [==============================] - 0s 532us/step - loss: 0.0221 - accuracy: 1.0000\n",
      "Epoch 93/200\n",
      "47/47 [==============================] - 0s 638us/step - loss: 0.0445 - accuracy: 0.9787\n",
      "Epoch 94/200\n",
      "47/47 [==============================] - 0s 638us/step - loss: 0.0253 - accuracy: 1.0000\n",
      "Epoch 95/200\n",
      "47/47 [==============================] - 0s 745us/step - loss: 0.0245 - accuracy: 1.0000\n",
      "Epoch 96/200\n",
      "47/47 [==============================] - 0s 638us/step - loss: 0.0394 - accuracy: 1.0000\n",
      "Epoch 97/200\n",
      "47/47 [==============================] - 0s 745us/step - loss: 0.0283 - accuracy: 1.0000\n",
      "Epoch 98/200\n",
      "47/47 [==============================] - 0s 745us/step - loss: 0.0346 - accuracy: 1.0000\n",
      "Epoch 99/200\n",
      "47/47 [==============================] - 0s 638us/step - loss: 0.0241 - accuracy: 1.0000\n",
      "Epoch 100/200\n",
      "47/47 [==============================] - 0s 745us/step - loss: 0.0237 - accuracy: 1.0000\n",
      "Epoch 101/200\n",
      "47/47 [==============================] - 0s 638us/step - loss: 0.0488 - accuracy: 0.9787\n",
      "Epoch 102/200\n",
      "47/47 [==============================] - 0s 745us/step - loss: 0.0408 - accuracy: 1.0000\n",
      "Epoch 103/200\n",
      "47/47 [==============================] - 0s 638us/step - loss: 0.0257 - accuracy: 1.0000\n",
      "Epoch 104/200\n",
      "47/47 [==============================] - 0s 638us/step - loss: 0.0352 - accuracy: 1.0000\n",
      "Epoch 105/200\n",
      "47/47 [==============================] - 0s 638us/step - loss: 0.0517 - accuracy: 1.0000\n",
      "Epoch 106/200\n",
      "47/47 [==============================] - 0s 638us/step - loss: 0.0221 - accuracy: 1.0000\n",
      "Epoch 107/200\n",
      "47/47 [==============================] - 0s 638us/step - loss: 0.0328 - accuracy: 1.0000\n",
      "Epoch 108/200\n",
      "47/47 [==============================] - 0s 638us/step - loss: 0.0230 - accuracy: 1.0000\n",
      "Epoch 109/200\n",
      "47/47 [==============================] - 0s 745us/step - loss: 0.0411 - accuracy: 0.9787\n",
      "Epoch 110/200\n",
      "47/47 [==============================] - 0s 745us/step - loss: 0.0292 - accuracy: 1.0000\n",
      "Epoch 111/200\n",
      "47/47 [==============================] - 0s 638us/step - loss: 0.0746 - accuracy: 0.9787\n",
      "Epoch 112/200\n",
      "47/47 [==============================] - 0s 745us/step - loss: 0.0442 - accuracy: 1.0000\n",
      "Epoch 113/200\n",
      "47/47 [==============================] - 0s 638us/step - loss: 0.0299 - accuracy: 0.9787\n",
      "Epoch 114/200\n",
      "47/47 [==============================] - 0s 745us/step - loss: 0.0080 - accuracy: 1.0000\n",
      "Epoch 115/200\n",
      "47/47 [==============================] - 0s 638us/step - loss: 0.0165 - accuracy: 1.0000\n",
      "Epoch 116/200\n",
      "47/47 [==============================] - 0s 745us/step - loss: 0.0306 - accuracy: 1.0000\n",
      "Epoch 117/200\n",
      "47/47 [==============================] - 0s 638us/step - loss: 0.0261 - accuracy: 1.0000\n",
      "Epoch 118/200\n",
      "47/47 [==============================] - 0s 532us/step - loss: 0.0473 - accuracy: 0.9787\n",
      "Epoch 119/200\n",
      "47/47 [==============================] - 0s 638us/step - loss: 0.0510 - accuracy: 0.9787\n",
      "Epoch 120/200\n",
      "47/47 [==============================] - 0s 745us/step - loss: 0.0380 - accuracy: 1.0000\n",
      "Epoch 121/200\n",
      "47/47 [==============================] - 0s 745us/step - loss: 0.0155 - accuracy: 1.0000\n",
      "Epoch 122/200\n",
      "47/47 [==============================] - 0s 638us/step - loss: 0.0418 - accuracy: 1.0000\n",
      "Epoch 123/200\n",
      "47/47 [==============================] - 0s 638us/step - loss: 0.0087 - accuracy: 1.0000\n",
      "Epoch 124/200\n",
      "47/47 [==============================] - 0s 638us/step - loss: 0.0374 - accuracy: 1.0000\n",
      "Epoch 125/200\n",
      "47/47 [==============================] - 0s 745us/step - loss: 0.0221 - accuracy: 1.0000\n",
      "Epoch 126/200\n",
      "47/47 [==============================] - 0s 532us/step - loss: 0.0340 - accuracy: 1.0000\n",
      "Epoch 127/200\n",
      "47/47 [==============================] - 0s 745us/step - loss: 0.0287 - accuracy: 1.0000\n",
      "Epoch 128/200\n",
      "47/47 [==============================] - 0s 638us/step - loss: 0.0104 - accuracy: 1.0000\n",
      "Epoch 129/200\n",
      "47/47 [==============================] - 0s 745us/step - loss: 0.0087 - accuracy: 1.0000\n",
      "Epoch 130/200\n",
      "47/47 [==============================] - 0s 745us/step - loss: 0.0344 - accuracy: 1.0000\n",
      "Epoch 131/200\n",
      "47/47 [==============================] - 0s 745us/step - loss: 0.0093 - accuracy: 1.0000\n",
      "Epoch 132/200\n",
      "47/47 [==============================] - 0s 638us/step - loss: 0.0202 - accuracy: 1.0000\n",
      "Epoch 133/200\n",
      "47/47 [==============================] - 0s 638us/step - loss: 0.0325 - accuracy: 1.0000\n",
      "Epoch 134/200\n",
      "47/47 [==============================] - 0s 638us/step - loss: 0.0291 - accuracy: 1.0000\n",
      "Epoch 135/200\n",
      "47/47 [==============================] - 0s 745us/step - loss: 0.0087 - accuracy: 1.0000\n",
      "Epoch 136/200\n",
      "47/47 [==============================] - 0s 638us/step - loss: 0.0124 - accuracy: 1.0000\n",
      "Epoch 137/200\n",
      "47/47 [==============================] - 0s 532us/step - loss: 0.0108 - accuracy: 1.0000\n",
      "Epoch 138/200\n",
      "47/47 [==============================] - 0s 638us/step - loss: 0.0146 - accuracy: 1.0000\n",
      "Epoch 139/200\n",
      "47/47 [==============================] - 0s 638us/step - loss: 0.0532 - accuracy: 0.9574\n",
      "Epoch 140/200\n",
      "47/47 [==============================] - 0s 745us/step - loss: 0.0109 - accuracy: 1.0000\n",
      "Epoch 141/200\n",
      "47/47 [==============================] - 0s 745us/step - loss: 0.0199 - accuracy: 1.0000\n",
      "Epoch 142/200\n",
      "47/47 [==============================] - 0s 745us/step - loss: 0.0243 - accuracy: 1.0000\n",
      "Epoch 143/200\n",
      "47/47 [==============================] - 0s 745us/step - loss: 0.0650 - accuracy: 0.9787\n",
      "Epoch 144/200\n",
      "47/47 [==============================] - 0s 851us/step - loss: 0.0107 - accuracy: 1.0000\n",
      "Epoch 145/200\n",
      "47/47 [==============================] - 0s 638us/step - loss: 0.0855 - accuracy: 0.9787\n",
      "Epoch 146/200\n",
      "47/47 [==============================] - 0s 638us/step - loss: 0.0380 - accuracy: 1.0000\n",
      "Epoch 147/200\n",
      "47/47 [==============================] - 0s 638us/step - loss: 0.0348 - accuracy: 1.0000\n",
      "Epoch 148/200\n",
      "47/47 [==============================] - 0s 638us/step - loss: 0.0543 - accuracy: 0.9787\n",
      "Epoch 149/200\n",
      "47/47 [==============================] - 0s 638us/step - loss: 0.0209 - accuracy: 1.0000\n",
      "Epoch 150/200\n",
      "47/47 [==============================] - 0s 745us/step - loss: 0.0172 - accuracy: 1.0000\n",
      "Epoch 151/200\n",
      "47/47 [==============================] - 0s 745us/step - loss: 0.0114 - accuracy: 1.0000\n",
      "Epoch 152/200\n",
      "47/47 [==============================] - ETA: 0s - loss: 5.4037e-04 - accuracy: 1.00 - 0s 638us/step - loss: 0.0390 - accuracy: 0.9787\n",
      "Epoch 153/200\n",
      "47/47 [==============================] - 0s 638us/step - loss: 0.0198 - accuracy: 1.0000\n",
      "Epoch 154/200\n",
      "47/47 [==============================] - 0s 638us/step - loss: 0.0213 - accuracy: 1.0000\n",
      "Epoch 155/200\n",
      "47/47 [==============================] - 0s 745us/step - loss: 0.0108 - accuracy: 1.0000\n",
      "Epoch 156/200\n",
      "47/47 [==============================] - 0s 745us/step - loss: 0.0138 - accuracy: 1.0000\n",
      "Epoch 157/200\n",
      "47/47 [==============================] - 0s 638us/step - loss: 0.0224 - accuracy: 0.9787\n",
      "Epoch 158/200\n"
     ]
    },
    {
     "name": "stdout",
     "output_type": "stream",
     "text": [
      "47/47 [==============================] - 0s 638us/step - loss: 0.0405 - accuracy: 1.0000\n",
      "Epoch 159/200\n",
      "47/47 [==============================] - 0s 532us/step - loss: 0.0030 - accuracy: 1.0000\n",
      "Epoch 160/200\n",
      "47/47 [==============================] - 0s 745us/step - loss: 0.0148 - accuracy: 1.0000\n",
      "Epoch 161/200\n",
      "47/47 [==============================] - 0s 638us/step - loss: 0.0080 - accuracy: 1.0000\n",
      "Epoch 162/200\n",
      "47/47 [==============================] - 0s 745us/step - loss: 0.0027 - accuracy: 1.0000\n",
      "Epoch 163/200\n",
      "47/47 [==============================] - 0s 745us/step - loss: 0.0900 - accuracy: 0.9787\n",
      "Epoch 164/200\n",
      "47/47 [==============================] - 0s 745us/step - loss: 0.0136 - accuracy: 1.0000\n",
      "Epoch 165/200\n",
      "47/47 [==============================] - 0s 638us/step - loss: 0.0141 - accuracy: 1.0000\n",
      "Epoch 166/200\n",
      "47/47 [==============================] - 0s 745us/step - loss: 0.0017 - accuracy: 1.0000\n",
      "Epoch 167/200\n",
      "47/47 [==============================] - 0s 532us/step - loss: 0.0079 - accuracy: 1.0000\n",
      "Epoch 168/200\n",
      "47/47 [==============================] - 0s 532us/step - loss: 0.0043 - accuracy: 1.0000\n",
      "Epoch 169/200\n",
      "47/47 [==============================] - 0s 638us/step - loss: 0.0033 - accuracy: 1.0000\n",
      "Epoch 170/200\n",
      "47/47 [==============================] - 0s 745us/step - loss: 0.0180 - accuracy: 1.0000\n",
      "Epoch 171/200\n",
      "47/47 [==============================] - 0s 851us/step - loss: 0.0091 - accuracy: 1.0000\n",
      "Epoch 172/200\n",
      "47/47 [==============================] - 0s 745us/step - loss: 0.0097 - accuracy: 1.0000\n",
      "Epoch 173/200\n",
      "47/47 [==============================] - 0s 745us/step - loss: 0.0573 - accuracy: 0.9787\n",
      "Epoch 174/200\n",
      "47/47 [==============================] - 0s 638us/step - loss: 0.0648 - accuracy: 0.9787\n",
      "Epoch 175/200\n",
      "47/47 [==============================] - 0s 638us/step - loss: 0.0146 - accuracy: 1.0000\n",
      "Epoch 176/200\n",
      "47/47 [==============================] - 0s 745us/step - loss: 0.0173 - accuracy: 1.0000\n",
      "Epoch 177/200\n",
      "47/47 [==============================] - 0s 745us/step - loss: 0.0359 - accuracy: 1.0000\n",
      "Epoch 178/200\n",
      "47/47 [==============================] - 0s 638us/step - loss: 0.0218 - accuracy: 1.0000\n",
      "Epoch 179/200\n",
      "47/47 [==============================] - 0s 745us/step - loss: 0.0260 - accuracy: 1.0000\n",
      "Epoch 180/200\n",
      "47/47 [==============================] - 0s 638us/step - loss: 0.1414 - accuracy: 0.9574\n",
      "Epoch 181/200\n",
      "47/47 [==============================] - 0s 532us/step - loss: 0.0221 - accuracy: 1.0000\n",
      "Epoch 182/200\n",
      "47/47 [==============================] - 0s 638us/step - loss: 0.0158 - accuracy: 1.0000\n",
      "Epoch 183/200\n",
      "47/47 [==============================] - 0s 745us/step - loss: 0.0060 - accuracy: 1.0000\n",
      "Epoch 184/200\n",
      "47/47 [==============================] - 0s 745us/step - loss: 0.0438 - accuracy: 0.9787\n",
      "Epoch 185/200\n",
      "47/47 [==============================] - 0s 745us/step - loss: 0.0085 - accuracy: 1.0000\n",
      "Epoch 186/200\n",
      "47/47 [==============================] - 0s 638us/step - loss: 0.0072 - accuracy: 1.0000\n",
      "Epoch 187/200\n",
      "47/47 [==============================] - 0s 638us/step - loss: 0.0128 - accuracy: 1.0000\n",
      "Epoch 188/200\n",
      "47/47 [==============================] - 0s 638us/step - loss: 0.0187 - accuracy: 1.0000\n",
      "Epoch 189/200\n",
      "47/47 [==============================] - 0s 638us/step - loss: 0.0282 - accuracy: 0.9787\n",
      "Epoch 190/200\n",
      "47/47 [==============================] - 0s 638us/step - loss: 0.0149 - accuracy: 1.0000\n",
      "Epoch 191/200\n",
      "47/47 [==============================] - 0s 745us/step - loss: 0.0042 - accuracy: 1.0000\n",
      "Epoch 192/200\n",
      "47/47 [==============================] - 0s 745us/step - loss: 0.0068 - accuracy: 1.0000\n",
      "Epoch 193/200\n",
      "47/47 [==============================] - 0s 638us/step - loss: 0.0259 - accuracy: 1.0000\n",
      "Epoch 194/200\n",
      "47/47 [==============================] - 0s 638us/step - loss: 0.0160 - accuracy: 1.0000\n",
      "Epoch 195/200\n",
      "47/47 [==============================] - 0s 745us/step - loss: 0.0032 - accuracy: 1.0000\n",
      "Epoch 196/200\n",
      "47/47 [==============================] - 0s 638us/step - loss: 0.0406 - accuracy: 0.9787\n",
      "Epoch 197/200\n",
      "47/47 [==============================] - 0s 745us/step - loss: 0.0098 - accuracy: 1.0000\n",
      "Epoch 198/200\n",
      "47/47 [==============================] - 0s 638us/step - loss: 0.0132 - accuracy: 1.0000\n",
      "Epoch 199/200\n",
      "47/47 [==============================] - 0s 745us/step - loss: 0.0123 - accuracy: 1.0000\n",
      "Epoch 200/200\n",
      "47/47 [==============================] - 0s 638us/step - loss: 0.0210 - accuracy: 1.0000\n"
     ]
    }
   ],
   "source": [
    "#fitting and saving the model \n",
    "hist = model.fit(np.array(train_x), np.array(train_y), epochs=200, batch_size=5, verbose=1)\n",
    "model.save('chatbot_model.h5', hist)"
   ]
  },
  {
   "cell_type": "code",
   "execution_count": 19,
   "metadata": {},
   "outputs": [
    {
     "name": "stdout",
     "output_type": "stream",
     "text": [
      "model created\n"
     ]
    }
   ],
   "source": [
    "print(\"model created\")"
   ]
  },
  {
   "cell_type": "code",
   "execution_count": null,
   "metadata": {},
   "outputs": [],
   "source": []
  },
  {
   "cell_type": "code",
   "execution_count": null,
   "metadata": {},
   "outputs": [],
   "source": []
  },
  {
   "cell_type": "code",
   "execution_count": null,
   "metadata": {},
   "outputs": [],
   "source": []
  },
  {
   "cell_type": "code",
   "execution_count": null,
   "metadata": {},
   "outputs": [],
   "source": []
  },
  {
   "cell_type": "code",
   "execution_count": null,
   "metadata": {},
   "outputs": [],
   "source": []
  },
  {
   "cell_type": "code",
   "execution_count": null,
   "metadata": {},
   "outputs": [],
   "source": []
  },
  {
   "cell_type": "code",
   "execution_count": null,
   "metadata": {},
   "outputs": [],
   "source": []
  },
  {
   "cell_type": "code",
   "execution_count": null,
   "metadata": {},
   "outputs": [],
   "source": []
  },
  {
   "cell_type": "code",
   "execution_count": null,
   "metadata": {},
   "outputs": [],
   "source": []
  },
  {
   "cell_type": "code",
   "execution_count": null,
   "metadata": {},
   "outputs": [],
   "source": []
  },
  {
   "cell_type": "code",
   "execution_count": null,
   "metadata": {},
   "outputs": [],
   "source": []
  },
  {
   "cell_type": "code",
   "execution_count": null,
   "metadata": {},
   "outputs": [],
   "source": []
  },
  {
   "cell_type": "code",
   "execution_count": null,
   "metadata": {},
   "outputs": [],
   "source": []
  },
  {
   "cell_type": "code",
   "execution_count": null,
   "metadata": {},
   "outputs": [],
   "source": []
  },
  {
   "cell_type": "code",
   "execution_count": null,
   "metadata": {},
   "outputs": [],
   "source": []
  },
  {
   "cell_type": "code",
   "execution_count": null,
   "metadata": {},
   "outputs": [],
   "source": []
  },
  {
   "cell_type": "code",
   "execution_count": null,
   "metadata": {},
   "outputs": [],
   "source": []
  },
  {
   "cell_type": "code",
   "execution_count": null,
   "metadata": {},
   "outputs": [],
   "source": []
  },
  {
   "cell_type": "code",
   "execution_count": null,
   "metadata": {},
   "outputs": [],
   "source": []
  },
  {
   "cell_type": "code",
   "execution_count": null,
   "metadata": {},
   "outputs": [],
   "source": []
  },
  {
   "cell_type": "code",
   "execution_count": null,
   "metadata": {},
   "outputs": [],
   "source": []
  },
  {
   "cell_type": "code",
   "execution_count": null,
   "metadata": {},
   "outputs": [],
   "source": []
  },
  {
   "cell_type": "code",
   "execution_count": null,
   "metadata": {},
   "outputs": [],
   "source": []
  },
  {
   "cell_type": "code",
   "execution_count": null,
   "metadata": {},
   "outputs": [],
   "source": []
  },
  {
   "cell_type": "code",
   "execution_count": null,
   "metadata": {},
   "outputs": [],
   "source": []
  },
  {
   "cell_type": "code",
   "execution_count": null,
   "metadata": {},
   "outputs": [],
   "source": []
  },
  {
   "cell_type": "code",
   "execution_count": null,
   "metadata": {},
   "outputs": [],
   "source": []
  },
  {
   "cell_type": "code",
   "execution_count": null,
   "metadata": {},
   "outputs": [],
   "source": []
  },
  {
   "cell_type": "code",
   "execution_count": null,
   "metadata": {},
   "outputs": [],
   "source": []
  },
  {
   "cell_type": "code",
   "execution_count": null,
   "metadata": {},
   "outputs": [],
   "source": []
  },
  {
   "cell_type": "code",
   "execution_count": null,
   "metadata": {},
   "outputs": [],
   "source": []
  },
  {
   "cell_type": "code",
   "execution_count": null,
   "metadata": {},
   "outputs": [],
   "source": []
  },
  {
   "cell_type": "code",
   "execution_count": null,
   "metadata": {},
   "outputs": [],
   "source": []
  },
  {
   "cell_type": "code",
   "execution_count": null,
   "metadata": {},
   "outputs": [],
   "source": []
  },
  {
   "cell_type": "code",
   "execution_count": null,
   "metadata": {},
   "outputs": [],
   "source": []
  },
  {
   "cell_type": "code",
   "execution_count": null,
   "metadata": {},
   "outputs": [],
   "source": []
  },
  {
   "cell_type": "code",
   "execution_count": null,
   "metadata": {},
   "outputs": [],
   "source": []
  }
 ],
 "metadata": {
  "kernelspec": {
   "display_name": "Python 3",
   "language": "python",
   "name": "python3"
  },
  "language_info": {
   "codemirror_mode": {
    "name": "ipython",
    "version": 3
   },
   "file_extension": ".py",
   "mimetype": "text/x-python",
   "name": "python",
   "nbconvert_exporter": "python",
   "pygments_lexer": "ipython3",
   "version": "3.7.4"
  }
 },
 "nbformat": 4,
 "nbformat_minor": 2
}
